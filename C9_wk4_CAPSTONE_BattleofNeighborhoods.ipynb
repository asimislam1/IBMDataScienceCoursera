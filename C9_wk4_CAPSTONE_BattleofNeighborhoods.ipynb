{
 "cells": [
  {
   "cell_type": "markdown",
   "metadata": {},
   "source": [
    "# CAPSTONE PROJECT:  BATTLE OF NEIGHBORHOODS\n",
    "C9_wk4_BattleofNeighborhoods\n",
    "\n",
    "---\n",
    "#  1. Introduction\n",
    "The population of Toronto has grown considerably in the past decade and is very diverse.  It is a great opportunity for entrepreneurs to cater to such a multi-cultural population.\n",
    "##   1.1  Business Problem\n",
    "A group of investors is looking to open an authentic South Asian restaurant and is in the process of finding a good location.  The business problem is to identify neighborhoods where there is a high number of residents that are of South Asian descent.\n",
    "##   1.1  Target Audience\n",
    "The target audience is, like the population, diverse.  Toronto has a variety of restaurants catering to almost everyone.  The intent of the investors is to target the South Asian communities, as well as other residents, visitors and tourists\n",
    "\n",
    "#  2. Data\n",
    "The following sources will be used for the analysis:\n",
    "## 2.1  Postal Codes of Toronto\n",
    "Postal Codes of Toronto will be scraped from Toronto’s Postal Code wiki-page https://en.wikipedia.org/wiki/List_of_postal_codes_of_Canada:_M._  The data will be used in conjunction with Four Square to explore the neighborhoods.\n",
    "## 2.2  Toronto Neighborhood Profile\n",
    "Toronto Neighborhood Profile dataset can be downloaded as a .csv file from (https://portal0.cf.opendata.inter.sandbox-toronto.ca/dataset/Neighborhood-profiles/).  From this census data, language spoken by population criteria will help identify the neighborhoods that can be targeted as locations for a South Asian restaurant.\n",
    "##  2.3  Geocoder -ARCGIS\n",
    "ARCGIS will be used for looking up the longitude and latitudes of the neighborhoods.  It is part of the geocoder package.\n",
    "##  2.4  Four Square\n",
    "Four Square app will be used for exploring venues in a neighborhood."
   ]
  }
 ],
 "metadata": {
  "kernelspec": {
   "display_name": "Python 3",
   "language": "python",
   "name": "python3"
  },
  "language_info": {
   "codemirror_mode": {
    "name": "ipython",
    "version": 3
   },
   "file_extension": ".py",
   "mimetype": "text/x-python",
   "name": "python",
   "nbconvert_exporter": "python",
   "pygments_lexer": "ipython3",
   "version": "3.7.1"
  }
 },
 "nbformat": 4,
 "nbformat_minor": 2
}
